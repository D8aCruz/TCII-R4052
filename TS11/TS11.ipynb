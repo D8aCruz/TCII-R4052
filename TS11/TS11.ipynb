{
 "cells": [
  {
   "cell_type": "markdown",
   "id": "830db13b",
   "metadata": {},
   "source": [
    "<img src=\"logo-utn-frba.png\" style=\"float: right;\" width=\"200\" height=\"40\" alt=\"InternetCtrl\">\n",
    "<p style=\" font-family: Courier New,Courier,Lucida Sans Typewriter,Lucida Typewriter,monospace; text-align: left;\"><font color='black'>TEORÍA DE LOS CIRCUITOS II<br>Curso R4052</font></p>"
   ]
  },
  {
   "cell_type": "markdown",
   "id": "cdfb25b5",
   "metadata": {},
   "source": [
    "<p style=\"border: ridge black 2px; text-align: center;font-weight: italic; font-size:25px; background-color:#FF4040\">\n",
    "    Trabajo Semanal N° 11\n",
    "</p>"
   ]
  },
  {
   "cell_type": "markdown",
   "id": "87dd7bf7",
   "metadata": {},
   "source": [
    "<p style=\"border: ridge #FF4040 2px; text-align: left;font-weight: italic; font-size:15px;\">\n",
    "    Síntesis de funciones de excitación disipativas\n",
    "</p>"
   ]
  },
  {
   "cell_type": "markdown",
   "id": "800e5303",
   "metadata": {},
   "source": [
    "<ol start=\"1\">\n",
    "    <li style=\"position: relative;\n",
    "               margin-bottom: 1.5em;\n",
    "               padding: 1.5em;\">\n",
    "        <strong>Encuentre el valor de los componentes del siguiente circuito:</strong>\n",
    "        <img src=\"Circuito1.jpg\" style=\"float: center;\" width=\"300\" height=\"100\" alt=\"InternetCtrl\">\n",
    "        <p> Sabiendo que está caracterizado por la siguiente función de excitación y constantes de tiempo:</p>\n",
    "        <p>$$ Z(s) = \\frac{s^2+6s+8}{s^2+4s+3} $$</p>\n",
    "        <p>$$ {R_{1}C_{1} = \\frac{1}{6}} $$</p>\n",
    "        <p>$$ {R_{2}C_{2} = \\frac{2}{7}} $$</p>\n",
    "    </li>    \n",
    "    <li style=\"position: relative;\n",
    "               margin-bottom: 1.5em;\n",
    "               padding: 1.5em;\">\n",
    "        <strong> Determine el valor de los componentes que integran el siguiente dipolo,\n",
    "                 sabiendo que satisface la impedancia propuesta:</strong>\n",
    "        <p>$$ Z(s) = \\frac{s^2+s+1}{(s^2+2s+5)(s+1)} $$</p>\n",
    "        <img src=\"Circuito2.jpg\" style=\"float: center;\" width=\"300\" height=\"100\" alt=\"InternetCtrl\">\n",
    "    </li>\n",
    "</ol>"
   ]
  },
  {
   "cell_type": "markdown",
   "id": "58711645",
   "metadata": {},
   "source": [
    "<p style=\"border: ridge #FF4040 2px; text-align: left;font-weight: italic; font-size:15px;\">\n",
    "    Resolución\n",
    "</p>"
   ]
  },
  {
   "cell_type": "markdown",
   "id": "4a0eebcb",
   "metadata": {},
   "source": [
    "<ol start=\"1\">\n",
    "    <li>        \n",
    "    </li>    \n",
    "</ol>"
   ]
  },
  {
   "cell_type": "markdown",
   "id": "2efc5781",
   "metadata": {},
   "source": []
  },
  {
   "cell_type": "markdown",
   "id": "b2c789ff",
   "metadata": {},
   "source": [
    "<ol start=\"2\">\n",
    "    <li>        \n",
    "    </li>    \n",
    "</ol>"
   ]
  },
  {
   "cell_type": "markdown",
   "id": "dc670705",
   "metadata": {},
   "source": [
    "<p style=\"border: ridge #FF4040 2px; text-align: left;font-weight: italic; font-size:15px;\">\n",
    "    Resolución Simbolica\n",
    "</p>"
   ]
  },
  {
   "cell_type": "code",
   "execution_count": null,
   "id": "b94d95b8",
   "metadata": {},
   "outputs": [],
   "source": []
  }
 ],
 "metadata": {
  "kernelspec": {
   "display_name": "Python 3 (ipykernel)",
   "language": "python",
   "name": "python3"
  },
  "language_info": {
   "codemirror_mode": {
    "name": "ipython",
    "version": 3
   },
   "file_extension": ".py",
   "mimetype": "text/x-python",
   "name": "python",
   "nbconvert_exporter": "python",
   "pygments_lexer": "ipython3",
   "version": "3.8.10"
  }
 },
 "nbformat": 4,
 "nbformat_minor": 5
}
