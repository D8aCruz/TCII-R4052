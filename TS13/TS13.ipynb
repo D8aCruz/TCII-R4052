{
 "cells": [
  {
   "cell_type": "markdown",
   "id": "0c04a9ab",
   "metadata": {},
   "source": [
    "<img src=\"logo-utn-frba.png\" style=\"float: right;\" width=\"200\" height=\"40\" alt=\"InternetCtrl\">\n",
    "<p style=\" font-family: Courier New,Courier,Lucida Sans Typewriter,Lucida Typewriter,monospace; text-align: left;\"><font color='black'>TEORÍA DE LOS CIRCUITOS II<br>Curso R4052</font></p>"
   ]
  },
  {
   "cell_type": "markdown",
   "id": "b1f684b5",
   "metadata": {},
   "source": [
    "<p style=\"border: ridge black 2px;  padding: 25px; text-align: center;font-weight: italic; font-size:50px; background-size: 80% 80%; background-color:#FF4040\">\n",
    "   Trabajo Semanal N° 13\n",
    "</p>"
   ]
  },
  {
   "cell_type": "markdown",
   "id": "c9a7f2cd",
   "metadata": {},
   "source": [
    "<p style=\"border: ridge #FF4040 2px; text-align: left;font-weight: italic; font-size:15px;\">\n",
    "    Síntesis de funciones transferencia cargadas\n",
    "</p>"
   ]
  },
  {
   "cell_type": "markdown",
   "id": "6405209a",
   "metadata": {},
   "source": [
    "<ol style=\"background-size: 3.2em;\">\n",
    "    <li style=\"position: relative;\n",
    "               margin-bottom: 1.5em;\n",
    "               padding: 1.5em;\">\n",
    "        <strong>Sintetice la siguiente transferencia cargada con componentes RC:</strong>\n",
    "        <br>\n",
    "        <img src=\"Circuito1.png\" style=\"float: center;\" width=\"300\" height=\"100\" alt=\"InternetCtrl\">\n",
    "        <p>$$ \\frac{-I_{2}}{I_{2}} = H.\\frac{s^2+5s+4}{(s^2+2s+12)}$$</p>\n",
    "        <br>\n",
    "        <p>$$ Z_{21} = 6H $$</p>\n",
    "        <br>\n",
    "        <ol type=\"a\">\n",
    "              <li>Obtener la topología mediante la síntesis gráfica, es decir la red sin valores.</li>\n",
    "              <li>Calcular el valor de los componentes, es decir la síntesis analítica.</li>\n",
    "        </ol>\n",
    "    </li>\n",
    "    <li style=\"position: relative;\n",
    "               margin-bottom: 1.5em;\n",
    "               padding: 1.5em;\">\n",
    "        <strong>Dada la siguiente transferencia de impedancia:</strong>\n",
    "        <img src=\"Circuito2.png\" style=\"float: center;\" width=\"300\" height=\"100\" alt=\"InternetCtrl\">\n",
    "        <p> $$T(s) = \\frac{V_{2}}{I_{1}}= \\frac{k(s^2+9)} { (s^2+8s+12) } $$</p>\n",
    "        <br>\n",
    "        <ol type=\"a\">\n",
    "              <li>Sintetizar un cuadripolo pasivo sin pérdidas, \n",
    "                  que cumpla con la transimpedancia indicada, \n",
    "                  cargado a la salida con una impedancia como se muestra en la figura.</li>\n",
    "              <li>Verificar la transimpedancia del circuito obtenido y hallar el valor de k.</li>\n",
    "        </ol>       \n",
    "    </li>\n",
    "    <strong>Algunas pistas:</strong>\n",
    "    <ul>\n",
    "          <li>En el caso del cuadripolo RC, la carga puede incorporarse al cuadripolo y NO cambia su naturaleza disipativa, mientras que en el caso del LC, eso NO podría hacerse dado que ya no sería más NO-disipativo. </li>\n",
    "          <li>Revisar las metodologías presentadas en</li>\n",
    "    </ul>\n",
    "</ol>"
   ]
  },
  {
   "cell_type": "code",
   "execution_count": 31,
   "id": "4b8f6d02",
   "metadata": {},
   "outputs": [
    {
     "data": {
      "text/html": [
       "<div align=\"center\">\n",
       "    <iframe width=\"560\" height=\"315\"\n",
       "    src=\"https://youtube.com//embed/PYGjVKhuDNQ\"\n",
       "    </iframe>\n",
       "</div>\n"
      ],
      "text/plain": [
       "<IPython.core.display.HTML object>"
      ]
     },
     "metadata": {},
     "output_type": "display_data"
    }
   ],
   "source": [
    "%%html\n",
    "<div align=\"center\">\n",
    "    <iframe width=\"560\" height=\"315\"\n",
    "    src=\"https://youtube.com//embed/PYGjVKhuDNQ\"\n",
    "    </iframe>\n",
    "</div>"
   ]
  },
  {
   "cell_type": "markdown",
   "id": "2978be43",
   "metadata": {},
   "source": [
    "<div align=\"center\">\n",
    "    <iframe width=\"560\" height=\"315\"\n",
    "    src=\"https://youtube.com/embed/d1NK83vve6c\"\n",
    "    </iframe>\n",
    "</div>"
   ]
  },
  {
   "cell_type": "markdown",
   "id": "1585804f",
   "metadata": {},
   "source": [
    "<p style=\"background-size: 3.2em;\"><strong>Para transferencias simplemente cargadas.</strong></p>\n",
    "<ul>\n",
    "    <li>\n",
    "        Ojo con los componentes de cierre. Prestar atención a las condiciones de medición\n",
    "        de las restricciones (parámetros, transferencias, etc)\n",
    "    </li>\n",
    "    <li>\n",
    "        Verificar la topología obtenida analizando las transferencias prescritas en sus\n",
    "        puntos clave, es decir extremos de banda, ceros de transferencia, etc.\n",
    "    </li>\n",
    "</ul> "
   ]
  },
  {
   "cell_type": "markdown",
   "id": "d9908462",
   "metadata": {},
   "source": [
    "<p style=\"background-size: 3.2em;\"><strong>Bonus:</strong></p>\n",
    "<ul>\n",
    "    <li>\n",
    "        +20 💎  Simulación simbólica de la función transferencia (vale pedir ayuda al\n",
    "        profe)\n",
    "    </li>\n",
    "    <li>\n",
    "        +20 🎓  Simulación circuital de la red obtenida (ya lo deberían saber hacer)\n",
    "    </li>\n",
    "    <li>\n",
    "        +5 🍺   Presentación en jupyter notebook\n",
    "    </li>\n",
    "</ul>  "
   ]
  },
  {
   "cell_type": "code",
   "execution_count": null,
   "id": "496353ca",
   "metadata": {},
   "outputs": [],
   "source": []
  }
 ],
 "metadata": {
  "kernelspec": {
   "display_name": "Python 3 (ipykernel)",
   "language": "python",
   "name": "python3"
  },
  "language_info": {
   "codemirror_mode": {
    "name": "ipython",
    "version": 3
   },
   "file_extension": ".py",
   "mimetype": "text/x-python",
   "name": "python",
   "nbconvert_exporter": "python",
   "pygments_lexer": "ipython3",
   "version": "3.8.10"
  }
 },
 "nbformat": 4,
 "nbformat_minor": 5
}
