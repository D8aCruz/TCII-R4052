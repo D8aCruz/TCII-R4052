{
 "cells": [
  {
   "cell_type": "markdown",
   "id": "f6dc4b63",
   "metadata": {},
   "source": [
    "<img src=\"logo-utn-frba.png\" style=\"float: right;\" width=\"200\" height=\"40\" alt=\"InternetCtrl\">\n",
    "<p style=\" font-family: Courier New,Courier,Lucida Sans Typewriter,Lucida Typewriter,monospace; text-align: left;\"><font color='black'>TEORÍA DE LOS CIRCUITOS II<br>Curso R4052 😎</font></p>"
   ]
  },
  {
   "cell_type": "markdown",
   "id": "e4a443dc",
   "metadata": {},
   "source": [
    "<p style=\"border: ridge black 2px;  padding: 25px; text-align: center;font-weight: italic; font-size:50px; background-size: 80% 80%; background-color:#FF4040\">\n",
    "   Trabajo Semanal N° 12\n",
    "</p>"
   ]
  },
  {
   "cell_type": "markdown",
   "id": "28eec440",
   "metadata": {},
   "source": [
    "<p style=\"border: ridge #FF4040 2px; text-align: left;font-weight: italic; font-size:15px;\">\n",
    "    Síntesis de funciones de transferencia\n",
    "</p>"
   ]
  },
  {
   "cell_type": "markdown",
   "id": "21eb3b93",
   "metadata": {},
   "source": [
    "<ol style=\"background-size: 3.2em;\">\n",
    "    <li style=\"position: relative;\n",
    "               margin-bottom: 1.5em;\n",
    "               padding: 1.5em;\">\n",
    "        <strong>\n",
    "            Sintetizar un cuadripolo que cumpla con los siguientes parámetros:\n",
    "        </strong>\n",
    "        <p>\n",
    "        $$ Y_{11} = \\frac{I_{1}}{V_{1}} |_{V_{2}=0} = \\frac{3s(s^2+7/3)}{(s^2+2)(s^2+5)}$$\n",
    "        </p>\n",
    "        <br>\n",
    "        <p>\n",
    "        $$ Y_{21} = \\frac{I_{2}}{V_{1}} |_{V_{2}=0} = \\frac{s(s^2+1)}{(s^2+2)(s^2+5)}$$\n",
    "        </p>\n",
    "        <br>\n",
    "        <ol type=\"a\">\n",
    "            <li>\n",
    "                Obtener la topología mediante la síntesis gráfica, es decir la red sin valores.\n",
    "            </li>\n",
    "            <li>\n",
    "                Calcular el valor de los componentes, es decir la síntesis analítica.\n",
    "            </li>\n",
    "        </ol>\n",
    "    </li>\n",
    "    <li style=\"position: relative;\n",
    "               margin-bottom: 1.5em;\n",
    "               padding: 1.5em;\">\n",
    "        <strong>Dada la siguiente transferencia:</strong>\n",
    "        <p> $$ T(s) = \\frac{V_{2}}{V_{1}} |_{I_{2}=0} = \\frac{k(s^2+1)}{(s+2)(s+4)}$$</p>\n",
    "                <br>\n",
    "        <ol type=\"a\">\n",
    "            <li>\n",
    "                Obtener la topología circuital que respeta la transferencia solicitada, utilizando parámetros Z e Y.\n",
    "            </li>\n",
    "            <li>\n",
    "                Calcular el valor de los componentes y el parámetro k.\n",
    "            </li>\n",
    "        </ol>\n",
    "</ol>"
   ]
  },
  {
   "cell_type": "markdown",
   "id": "4cf1d6a0",
   "metadata": {},
   "source": [
    "<p style=\"background-size: 3.2em;\"><strong>Algunas pistas:</strong></p>\n",
    "<ul>\n",
    "    <li>\n",
    "        Ojo con los componentes de cierre. Prestar atención a las condiciones de medición\n",
    "        de las restricciones (parámetros, transferencias, etc)\n",
    "    </li>\n",
    "    <li>\n",
    "        Verificar la topología obtenida analizando las transferencias prescritas en sus\n",
    "        puntos clave, es decir extremos de banda, ceros de transferencia, etc.\n",
    "    </li>\n",
    "</ul>        "
   ]
  },
  {
   "cell_type": "markdown",
   "id": "319e2689",
   "metadata": {},
   "source": [
    "<p style=\"background-size: 3.2em;\"><strong>Bonus:</strong></p>\n",
    "<ul>\n",
    "    <li>\n",
    "        +20 💎 Simulación simbólica de la función transferencia (vale pedir ayuda al\n",
    "        profe)\n",
    "    </li>\n",
    "    <li>\n",
    "        +20 🎓 Simulación circuital de la red obtenida (ya lo deberían saber hacer)\n",
    "    </li>\n",
    "    <li>\n",
    "        +5 🍺 Presentación en jupyter notebook\n",
    "    </li>\n",
    "</ul>  "
   ]
  },
  {
   "cell_type": "markdown",
   "id": "bc1ce2f1",
   "metadata": {},
   "source": [
    "<hr style=\"border: ridge black 1px;\">"
   ]
  },
  {
   "cell_type": "markdown",
   "id": "85f5fad3",
   "metadata": {},
   "source": [
    "<p style=\"border: ridge #FF4040 2px; text-align: left;font-weight: italic; font-size:15px;\">\n",
    "    Resolución\n",
    "</p>"
   ]
  },
  {
   "cell_type": "markdown",
   "id": "81d2ad21",
   "metadata": {},
   "source": [
    "<ol start=\"1\">\n",
    "    <li>        \n",
    "    </li>    \n",
    "</ol>"
   ]
  },
  {
   "cell_type": "markdown",
   "id": "d383c2be",
   "metadata": {},
   "source": [
    "<img src=\"E1a.png\" style=\"float: left;\" width=\"800\" height=\"100\" alt=\"InternetCtrl\">\n",
    "<br>\n",
    "<img src=\"E1b.png\" style=\"float: left;\" width=\"800\" height=\"100\" alt=\"InternetCtrl\">"
   ]
  },
  {
   "cell_type": "markdown",
   "id": "2fd06d63",
   "metadata": {},
   "source": [
    "<hr style=\"border: ridge black 1px;\">"
   ]
  },
  {
   "cell_type": "markdown",
   "id": "b09ee9a4",
   "metadata": {},
   "source": [
    "<ol start=\"2\">\n",
    "    <li>        \n",
    "    </li>    \n",
    "</ol>"
   ]
  },
  {
   "cell_type": "markdown",
   "id": "3b2b7edb",
   "metadata": {},
   "source": [
    "<img src=\"E2.png\" style=\"float: left;\" width=\"800\" height=\"100\" alt=\"InternetCtrl\">"
   ]
  },
  {
   "cell_type": "markdown",
   "id": "d56cbb9f",
   "metadata": {},
   "source": [
    "<p style=\"border: ridge #FF4040 2px; text-align: left;font-weight: italic; font-size:15px;\">\n",
    "    Resolución Simbólica\n",
    "</p>"
   ]
  },
  {
   "cell_type": "markdown",
   "id": "6aa6dcb9",
   "metadata": {},
   "source": [
    "<ol start=\"1\">\n",
    "    <li>        \n",
    "    </li>    \n",
    "</ol>"
   ]
  },
  {
   "cell_type": "markdown",
   "id": "17281d4f",
   "metadata": {},
   "source": [
    "<ol start=\"2\">\n",
    "    <li>        \n",
    "    </li>    \n",
    "</ol>"
   ]
  }
 ],
 "metadata": {
  "kernelspec": {
   "display_name": "Python 3 (ipykernel)",
   "language": "python",
   "name": "python3"
  },
  "language_info": {
   "codemirror_mode": {
    "name": "ipython",
    "version": 3
   },
   "file_extension": ".py",
   "mimetype": "text/x-python",
   "name": "python",
   "nbconvert_exporter": "python",
   "pygments_lexer": "ipython3",
   "version": "3.8.10"
  }
 },
 "nbformat": 4,
 "nbformat_minor": 5
}
