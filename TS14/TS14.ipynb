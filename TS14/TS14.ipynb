{
 "cells": [
  {
   "cell_type": "markdown",
   "id": "4fb0ed78",
   "metadata": {},
   "source": [
    "<img src=\"logo-utn-frba.png\" style=\"float: right;\" width=\"200\" height=\"40\" alt=\"InternetCtrl\">\n",
    "<p style=\" font-family: Courier New,Courier,Lucida Sans Typewriter,Lucida Typewriter,monospace; text-align: left;\"><font color='black'>TEORÍA DE LOS CIRCUITOS II<br>Curso R4052</font></p>"
   ]
  },
  {
   "cell_type": "markdown",
   "id": "1a77317c",
   "metadata": {},
   "source": [
    "<p style=\"border: ridge black 2px;  padding: 25px; text-align: center;font-weight: italic; font-size:50px; background-size: 80% 80%; background-color:#FF4040\">\n",
    "   Trabajo Semanal N° 14\n",
    "</p>"
   ]
  },
  {
   "cell_type": "markdown",
   "id": "e3b0252a",
   "metadata": {},
   "source": [
    "<p style=\"border: ridge #FF4040 2px; text-align: left;font-weight: italic; font-size:15px;\">\n",
    "    Síntesis de funciones transferencia cargadas\n",
    "</p>"
   ]
  },
  {
   "cell_type": "markdown",
   "id": "fe1b4954",
   "metadata": {},
   "source": [
    "<ol style=\"background-size: 3.2em;\">\n",
    "    <li style=\"position: relative;\n",
    "               margin-bottom: 1.5em;\n",
    "               padding: 1.5em;\">\n",
    "        <strong>Calcular los parámetros S de las siguiente red:</strong>\n",
    "        <div>\n",
    "            <img src=\"Circuito.png\" style=\"float: center;\" width=\"300\" height=\"100\" alt=\"InternetCtrl\">\n",
    "        </div>\n",
    "    </li>\n",
    "    <div>\n",
    "     <ol type=\"a\">\n",
    "          <li>¿Qué tipo de comportamiento tiene la red analizada? Justifique \n",
    "              utilizando alguno de los parámetros S.</li>\n",
    "          <li>A partir del parámetro S11 y S21, explique el comportamiento de la red para:</li>\n",
    "          <div>\n",
    "              <ul>\n",
    "                  <li>ω=0  (centro de la banda de paso)</li>\n",
    "                  <li>ω=1  (frecuencia de corte)</li>\n",
    "                  <li>ω→∞  (centro de la banda de detención)</li>        \n",
    "            </ul>\n",
    "         </div>\n",
    "    </ol>\n",
    "    </div>\n",
    "</ol>"
   ]
  },
  {
   "cell_type": "markdown",
   "id": "eb89732e",
   "metadata": {},
   "source": [
    "<p style=\"background-size: 3.2em;\"><strong>Bonus:</strong></p>\n",
    "<ul>\n",
    "    <li>\n",
    "        +20 💎  +10 🎓 Simulación circuital con LTspice.<a href=\"https://drive.google.com/file/d/18XEZU_PWU7YJaZUEcspknfhP3Zw31R2E/view\" target=\"_blank\">(Ver explicación de Agustín Alba Chicar 1h 48m)</a>\n",
    "    </li>\n",
    "    <li>\n",
    "        +5 🍺   Presentación en jupyter notebook\n",
    "    </li>\n",
    "</ul>  "
   ]
  },
  {
   "cell_type": "markdown",
   "id": "8a121d61",
   "metadata": {},
   "source": [
    "<hr style=\"border: ridge black 1px;\">"
   ]
  },
  {
   "cell_type": "markdown",
   "id": "ea829c27",
   "metadata": {},
   "source": [
    "<p style=\"border: ridge #FF4040 2px; text-align: left;font-weight: italic; font-size:15px;\">\n",
    "    Resolución\n",
    "</p>"
   ]
  },
  {
   "cell_type": "markdown",
   "id": "f2209bc0",
   "metadata": {},
   "source": [
    "<ol start=\"1\">\n",
    "    <li>        \n",
    "    </li>    \n",
    "</ol>"
   ]
  },
  {
   "cell_type": "markdown",
   "id": "641840d7",
   "metadata": {},
   "source": [
    "<div>\n",
    "    <img src=\"Resolucion.jpg\" style=\"float: center;\" width=\"700\" height=\"100\" alt=\"InternetCtrl\">\n",
    "</div>"
   ]
  },
  {
   "cell_type": "markdown",
   "id": "b83ce409",
   "metadata": {},
   "source": [
    "<hr style=\"border: ridge black 1px;\">"
   ]
  },
  {
   "cell_type": "markdown",
   "id": "f219dd9d",
   "metadata": {},
   "source": [
    "<p style=\"border: ridge #FF4040 2px; text-align: left;font-weight: italic; font-size:15px;\">\n",
    "    Simulaciones\n",
    "</p>"
   ]
  },
  {
   "cell_type": "markdown",
   "id": "790c4cef",
   "metadata": {},
   "source": [
    "<div>\n",
    "    <img src=\"Simulacion.jpg\" style=\"float: center;\" width=\"700\" height=\"100\" alt=\"InternetCtrl\">\n",
    "</div>"
   ]
  }
 ],
 "metadata": {
  "kernelspec": {
   "display_name": "Python 3 (ipykernel)",
   "language": "python",
   "name": "python3"
  },
  "language_info": {
   "codemirror_mode": {
    "name": "ipython",
    "version": 3
   },
   "file_extension": ".py",
   "mimetype": "text/x-python",
   "name": "python",
   "nbconvert_exporter": "python",
   "pygments_lexer": "ipython3",
   "version": "3.9.7"
  }
 },
 "nbformat": 4,
 "nbformat_minor": 5
}
