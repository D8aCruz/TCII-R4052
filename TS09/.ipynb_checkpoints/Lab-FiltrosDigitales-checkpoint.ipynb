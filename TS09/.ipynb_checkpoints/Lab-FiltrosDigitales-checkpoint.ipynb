{
 "cells": [
  {
   "cell_type": "markdown",
   "id": "40892287",
   "metadata": {},
   "source": [
    "<img src=\"logo-utn-frba.png\" style=\"float: right;\" width=\"200\" height=\"40\" alt=\"InternetCtrl\">\n",
    "<p style=\" font-family: Courier New,Courier,Lucida Sans Typewriter,Lucida Typewriter,monospace; text-align: left;\"><font color='black'>TEORÍA DE LOS CIRCUITOS II<br>Curso R4052</font></p>"
   ]
  },
  {
   "cell_type": "markdown",
   "id": "bcb17be9",
   "metadata": {},
   "source": [
    "<p style=\"border: ridge black 2px;  padding: 25px; text-align: center;font-weight: italic; font-size:50px; background-size: 80% 80%; background-color:#FF4040\">\n",
    "  Laboratorio de filtros digitales\n",
    "</p>\n",
    "<p style=\"font-weight: italic; font-size:20px;;\"><font color='87CEFA'>Laboratorio de filtros digitales: Mitigación de Interferencias en el Electrocardiograma durante la Prueba de Esfuerzo:</font></p>\n"
   ]
  },
  {
   "cell_type": "markdown",
   "id": "ddb083df",
   "metadata": {},
   "source": [
    "<h2> Introducción  </h2>\n",
    "\n",
    "<img src=\"./Recording-ECG.jpg\" align=\"right\" width=\"150\"\n",
    "style=\"border:10px solid white\" /> \n",
    "\n",
    "\n",
    "<p style=\"text-align: justify; font-weight: italic; font-size:15px;\">\n",
    "El electrocardiograma de superficie (ECG) es una medición no nvasiva del potencial eléctrico producido por el dipolo \n",
    "eléctrico resultante en cada célula cardíaca. Por lo genral, para la medición del ECG se colocan electrodos en\n",
    "las extremidades del cuerpo y sobre la superficie del torso, como se aprecia en la figura. Debido a que es una técnica no invasiva y su costo no es elevado, es ampliamente utilizada en la clínica médica para conocer la funcionalidad del corazón. Habitualmente se miden entre una y doce señales de ECG dependiendo de la patología bajo análisis.</p>\n",
    "\n",
    "\n",
    "<img src=\"./ergo_iss.jpg\" align=\"left\" width=\"350\"\n",
    "style=\"border:10px solid white\" /> \n",
    "\n",
    "\n",
    "<p style=\"text-align: justify; font-weight: italic; font-size:15px;\">\n",
    "La señal de ECG también es afectada por los campos eléctricos generados por todas las otras fuentes biológicas del organismo bajo estudio (ruido muscular), como también por otros factores como el movimiento de los electrodos sobre la piel y el acople de la línea eléctrica (50/60 Hz) entre otros. Una de las primeras tareas previas al análisis del ECG es el filtrado de interferencias. En el siguiente ejemplo, procederemos al filtrado de un ECG registrado durante una prueba de esfuerzo o ergometría. En dichos registros, las interferencias musculares son muy exageradas dado al esfuerzo físico al que es sometido el paciente.</p>\n",
    "\n",
    "<p style=\"text-align: justify; font-weight: italic; font-size:15px;\">\n",
    "Para tal fin, se procede a procesar la señal de ECG con diferentes filtros recursivos, o de respuesta infinita al impulso (IIR), como también filtros no recursivos, o de respuesta finita al impulso (FIR). Dichos filtros han sido presentados en clase, por lo que en el siguiente documento evaluaremos su desempeño de forma cualitativa en señales reales.</p>\n"
   ]
  },
  {
   "cell_type": "code",
   "execution_count": null,
   "id": "dd3050b2",
   "metadata": {},
   "outputs": [],
   "source": []
  }
 ],
 "metadata": {
  "kernelspec": {
   "display_name": "Python 3 (ipykernel)",
   "language": "python",
   "name": "python3"
  },
  "language_info": {
   "codemirror_mode": {
    "name": "ipython",
    "version": 3
   },
   "file_extension": ".py",
   "mimetype": "text/x-python",
   "name": "python",
   "nbconvert_exporter": "python",
   "pygments_lexer": "ipython3",
   "version": "3.8.10"
  }
 },
 "nbformat": 4,
 "nbformat_minor": 5
}
