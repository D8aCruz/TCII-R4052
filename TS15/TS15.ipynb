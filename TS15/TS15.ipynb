{
 "cells": [
  {
   "cell_type": "markdown",
   "id": "4fb0ed78",
   "metadata": {},
   "source": [
    "<img src=\"logo-utn-frba.png\" style=\"float: right;\" width=\"200\" height=\"40\" alt=\"InternetCtrl\">\n",
    "<p style=\" font-family: Courier New,Courier,Lucida Sans Typewriter,Lucida Typewriter,monospace; text-align: left;\"><font color='black'>TEORÍA DE LOS CIRCUITOS II<br>Curso R4052</font></p>"
   ]
  },
  {
   "cell_type": "markdown",
   "id": "1a77317c",
   "metadata": {},
   "source": [
    "<p style=\"border: ridge black 2px;  padding: 25px; text-align: center;font-weight: italic; font-size:50px; background-size: 80% 80%; background-color:#FF4040\">\n",
    "   Trabajo Semanal N° 15\n",
    "</p>"
   ]
  },
  {
   "cell_type": "markdown",
   "id": "e3b0252a",
   "metadata": {},
   "source": [
    "<p style=\"border: ridge #FF4040 2px; text-align: left;font-weight: italic; font-size:15px;\">\n",
    "    Filtro\n",
    "</p>"
   ]
  },
  {
   "cell_type": "markdown",
   "id": "fe1b4954",
   "metadata": {},
   "source": [
    "<ol style=\"background-size: 3.2em;\">\n",
    "    <li style=\"position: relative;\n",
    "               margin-bottom: 1.5em;\n",
    "               padding: 1.5em;\">\n",
    "        <strong>Diseñe el cuadripolo A para que se comporte como:</strong>\n",
    "    </li>\n",
    "    <ul>\n",
    "        <li>filtro pasa bajos Bessel de 3er. orden </li>\n",
    "        <li>no disipativo</li>\n",
    "        <li>normalizado en frecuencia e impedancia</li>\n",
    "    </ul>  \n",
    "    <br>\n",
    "     <p>respetando la siguiente topología:</p>\n",
    "    <br>\n",
    "    <div>\n",
    "        <img src=\"Circuito.png\" style=\"float: center;\" width=\"300\" height=\"100\" alt=\"InternetCtrl\">\n",
    "    </div>\n",
    "    <br>\n",
    "    <p>(Recordatorio de Bessel - Enlace 👉 <a href=\"https://www.youtube.com/watch?v=QXilN35Cls4&list=PLlD2eDv5CIe-0IZ3VOP0aQPTgAn9NMoKY&index=5\" target=\"_blank\"> video</a> )</p>\n",
    "    \n",
    "</ol>"
   ]
  },
  {
   "cell_type": "markdown",
   "id": "eb89732e",
   "metadata": {},
   "source": [
    "<p style=\"background-size: 3.2em;\"><strong>Consigna:</strong></p>\n",
    "<ul>\n",
    "     <ol type=\"a\">\n",
    "            <li>\n",
    "                Obtenga la impedancia de entrada al cuadripolo A, cargado con un resistor de 1Ω a la salida.\n",
    "            </li>\n",
    "            <li>\n",
    "                Sintetice A como un cuadripolo escalera.\n",
    "            </li>\n",
    "            <li>\n",
    "                Simule el comportamiento de la red en LTspice graficando S21 y S11 en función de la frecuencia.\n",
    "                (<a href=\"https://drive.google.com/file/d/18XEZU_PWU7YJaZUEcspknfhP3Zw31R2E/view\"\n",
    "                    target=\"_blank\">Ver explicación de Agustín Alba Chicar 1h 48m</a>)\n",
    "            </li>\n",
    "            <li>\n",
    "                Explique el comportamiento de A a partir de los valores de S11 en las siguientes frecuencias:\n",
    "                <ul>\n",
    "                    <li>centro de la banda de paso</li>\n",
    "                    <li>frecuencia de corte</li>\n",
    "                    <li>transición y centro de la banda de detenida</li>\n",
    "                </ul> \n",
    "             </li>\n",
    "           <li>Modifique el circuito para que la frecuencia de corte sea 2 π 10⁶ rad/s \n",
    "               y la resistencia del generador sea 50Ω.\n",
    "           </li>\n",
    "        </ol>\n",
    "</ul>  "
   ]
  },
  {
   "cell_type": "markdown",
   "id": "8a121d61",
   "metadata": {},
   "source": [
    "<hr style=\"border: ridge black 1px;\">"
   ]
  },
  {
   "cell_type": "markdown",
   "id": "ea829c27",
   "metadata": {},
   "source": [
    "<p style=\"border: ridge #FF4040 2px; text-align: left;font-weight: italic; font-size:15px;\">\n",
    "    Resolución\n",
    "</p>"
   ]
  },
  {
   "cell_type": "code",
   "execution_count": 3,
   "id": "1c777875",
   "metadata": {},
   "outputs": [
    {
     "ename": "SyntaxError",
     "evalue": "invalid syntax (Temp/ipykernel_18940/2434804051.py, line 1)",
     "output_type": "error",
     "traceback": [
      "\u001b[1;36m  File \u001b[1;32m\"C:\\Users\\david\\AppData\\Local\\Temp/ipykernel_18940/2434804051.py\"\u001b[1;36m, line \u001b[1;32m1\u001b[0m\n\u001b[1;33m    <div>\u001b[0m\n\u001b[1;37m    ^\u001b[0m\n\u001b[1;31mSyntaxError\u001b[0m\u001b[1;31m:\u001b[0m invalid syntax\n"
     ]
    }
   ],
   "source": [
    "<div>\n",
    "    <img src=\"R.jpg\" style=\"float: center;\" width=\"700\" height=\"100\" alt=\"InternetCtrl\">\n",
    "</div>"
   ]
  },
  {
   "cell_type": "markdown",
   "id": "50ac1f80",
   "metadata": {},
   "source": [
    "<hr style=\"border: ridge black 1px;\">"
   ]
  },
  {
   "cell_type": "markdown",
   "id": "b75d5cfc",
   "metadata": {},
   "source": [
    "<p style=\"border: ridge #FF4040 2px; text-align: left;font-weight: italic; font-size:15px;\">\n",
    "    Simulaciones\n",
    "</p>"
   ]
  },
  {
   "cell_type": "markdown",
   "id": "e3c59a14",
   "metadata": {},
   "source": [
    "<div>\n",
    "    <img src=\"SimulacionB.jpg\" style=\"float: center;\" width=\"700\" height=\"100\" alt=\"InternetCtrl\">\n",
    "</div>"
   ]
  },
  {
   "cell_type": "markdown",
   "id": "270e4cee",
   "metadata": {},
   "source": [
    "<div>\n",
    "    <img src=\"SimulacionA.jpg\" style=\"float: center;\" width=\"700\" height=\"100\" alt=\"InternetCtrl\">\n",
    "</div>"
   ]
  },
  {
   "cell_type": "markdown",
   "id": "42b1d00a",
   "metadata": {},
   "source": [
    "<div>\n",
    "    <img src=\"SimulacionC.jpg\" style=\"float: center;\" width=\"700\" height=\"100\" alt=\"InternetCtrl\">\n",
    "</div>"
   ]
  },
  {
   "cell_type": "markdown",
   "id": "58c13352",
   "metadata": {},
   "source": [
    "<div>\n",
    "    <img src=\"SimulacionC.jpg\" style=\"float: center;\" width=\"700\" height=\"100\" alt=\"InternetCtrl\">\n",
    "</div>"
   ]
  },
  {
   "cell_type": "markdown",
   "id": "c1ff51eb",
   "metadata": {},
   "source": [
    "<div>\n",
    "  <ul>\n",
    "      <li>ω=0   → S11 = -∞ dB    No hay reflexión, el cuadripolo NO filtra bajas frecuencias</li>\n",
    "      <li>ω=ωc  → S11 = -7.311dB Hay refelxion parcial </li>\n",
    "      <li>ω→∞   → S11 = 0 dB     Hay reflexion total, el cuadripolo filtra altas frecuencias</li>        \n",
    " </ul>\n",
    "</div>"
   ]
  },
  {
   "cell_type": "markdown",
   "id": "9422fe8c",
   "metadata": {},
   "source": [
    "<p style=\"border: ridge #FF4040 2px; text-align: left;font-weight: italic; font-size:15px;\">\n",
    "    Simulaciones del Circuito desnormalizado\n",
    "</p>"
   ]
  },
  {
   "cell_type": "markdown",
   "id": "bbabd786",
   "metadata": {},
   "source": [
    "<div>\n",
    "    <img src=\"Normalizacion.jpg\" style=\"float: center;\" width=\"200\" height=\"100\" alt=\"InternetCtrl\">\n",
    "</div>"
   ]
  },
  {
   "cell_type": "markdown",
   "id": "2e486724",
   "metadata": {},
   "source": [
    "<div>\n",
    "    <img src=\"SimulacionDesnormalizadoA.jpg\" style=\"float: center;\" width=\"700\" height=\"100\" alt=\"InternetCtrl\">\n",
    "</div>"
   ]
  },
  {
   "cell_type": "markdown",
   "id": "6722459c",
   "metadata": {},
   "source": [
    "<div>\n",
    "    <img src=\"SimulacionDesnormalizadoB.jpg\" style=\"float: center;\" width=\"700\" height=\"100\" alt=\"InternetCtrl\">\n",
    "</div>"
   ]
  }
 ],
 "metadata": {
  "kernelspec": {
   "display_name": "Python 3 (ipykernel)",
   "language": "python",
   "name": "python3"
  },
  "language_info": {
   "codemirror_mode": {
    "name": "ipython",
    "version": 3
   },
   "file_extension": ".py",
   "mimetype": "text/x-python",
   "name": "python",
   "nbconvert_exporter": "python",
   "pygments_lexer": "ipython3",
   "version": "3.9.7"
  }
 },
 "nbformat": 4,
 "nbformat_minor": 5
}
