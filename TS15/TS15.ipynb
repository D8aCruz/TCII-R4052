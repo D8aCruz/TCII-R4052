{
 "cells": [
  {
   "cell_type": "markdown",
   "id": "4fb0ed78",
   "metadata": {},
   "source": [
    "<img src=\"logo-utn-frba.png\" style=\"float: right;\" width=\"200\" height=\"40\" alt=\"InternetCtrl\">\n",
    "<p style=\" font-family: Courier New,Courier,Lucida Sans Typewriter,Lucida Typewriter,monospace; text-align: left;\"><font color='black'>TEORÍA DE LOS CIRCUITOS II<br>Curso R4052</font></p>"
   ]
  },
  {
   "cell_type": "markdown",
   "id": "1a77317c",
   "metadata": {},
   "source": [
    "<p style=\"border: ridge black 2px;  padding: 25px; text-align: center;font-weight: italic; font-size:50px; background-size: 80% 80%; background-color:#FF4040\">\n",
    "   Trabajo Semanal N° 15\n",
    "</p>"
   ]
  },
  {
   "cell_type": "markdown",
   "id": "e3b0252a",
   "metadata": {},
   "source": [
    "<p style=\"border: ridge #FF4040 2px; text-align: left;font-weight: italic; font-size:15px;\">\n",
    "    Filtro\n",
    "</p>"
   ]
  },
  {
   "cell_type": "markdown",
   "id": "fe1b4954",
   "metadata": {},
   "source": [
    "<ol style=\"background-size: 3.2em;\">\n",
    "    <li style=\"position: relative;\n",
    "               margin-bottom: 1.5em;\n",
    "               padding: 1.5em;\">\n",
    "        <strong>Diseñe el cuadripolo A para que se comporte como:</strong>\n",
    "    </li>\n",
    "    <ul>\n",
    "        <li>filtro pasa bajos Bessel de 3er. orden </li>\n",
    "        <li>no disipativo</li>\n",
    "        <li>normalizado en frecuencia e impedancia</li>\n",
    "    </ul>  \n",
    "    <br>\n",
    "     <p>respetando la siguiente topología:</p>\n",
    "    <br>\n",
    "    <div>\n",
    "        <img src=\"Circuito.png\" style=\"float: center;\" width=\"300\" height=\"100\" alt=\"InternetCtrl\">\n",
    "    </div>\n",
    "    <br>\n",
    "    <p>(Recordatorio de Bessel - Enlace 👉 <a href=\"https://www.youtube.com/watch?v=QXilN35Cls4&list=PLlD2eDv5CIe-0IZ3VOP0aQPTgAn9NMoKY&index=5\" target=\"_blank\"> video</a> )</p>\n",
    "    \n",
    "</ol>"
   ]
  },
  {
   "cell_type": "markdown",
   "id": "eb89732e",
   "metadata": {},
   "source": [
    "<p style=\"background-size: 3.2em;\"><strong>Consigna:</strong></p>\n",
    "<ul>\n",
    "     <ol type=\"a\">\n",
    "            <li>\n",
    "                Obtenga la impedancia de entrada al cuadripolo A, cargado con un resistor de 1Ω a la salida.\n",
    "            </li>\n",
    "            <li>\n",
    "                Sintetice A como un cuadripolo escalera.\n",
    "            </li>\n",
    "            <li>\n",
    "                Simule el comportamiento de la red en LTspice graficando S21 y S11 en función de la frecuencia.\n",
    "                (<a href=\"https://drive.google.com/file/d/18XEZU_PWU7YJaZUEcspknfhP3Zw31R2E/view\"\n",
    "                    target=\"_blank\">Ver explicación de Agustín Alba Chicar 1h 48m</a>)\n",
    "            </li>\n",
    "            <li>\n",
    "                Explique el comportamiento de A a partir de los valores de S11 en las siguientes frecuencias:\n",
    "                <ul>\n",
    "                    <li>centro de la banda de paso</li>\n",
    "                    <li>frecuencia de corte</li>\n",
    "                    <li>transición y centro de la banda de detenida</li>\n",
    "                </ul> \n",
    "             </li>\n",
    "           <li>Modifique el circuito para que la frecuencia de corte sea 2 π 10⁶ rad/s \n",
    "               y la resistencia del generador sea 50Ω.\n",
    "           </li>\n",
    "        </ol>\n",
    "</ul>  "
   ]
  },
  {
   "cell_type": "markdown",
   "id": "8a121d61",
   "metadata": {},
   "source": [
    "<hr style=\"border: ridge black 1px;\">"
   ]
  },
  {
   "cell_type": "markdown",
   "id": "ea829c27",
   "metadata": {},
   "source": [
    "<p style=\"border: ridge #FF4040 2px; text-align: left;font-weight: italic; font-size:15px;\">\n",
    "    Resolución\n",
    "</p>"
   ]
  },
  {
   "cell_type": "markdown",
   "id": "f2209bc0",
   "metadata": {},
   "source": [
    "<ol start=\"1\">\n",
    "    <li>        \n",
    "    </li>    \n",
    "</ol>"
   ]
  },
  {
   "cell_type": "code",
   "execution_count": null,
   "id": "1c777875",
   "metadata": {},
   "outputs": [],
   "source": []
  },
  {
   "cell_type": "markdown",
   "id": "50ac1f80",
   "metadata": {},
   "source": [
    "<hr style=\"border: ridge black 1px;\">"
   ]
  },
  {
   "cell_type": "markdown",
   "id": "5465dd00",
   "metadata": {},
   "source": [
    "<p style=\"border: ridge #FF4040 2px; text-align: left;font-weight: italic; font-size:15px;\">\n",
    "    Resolución Simbólica\n",
    "</p>"
   ]
  },
  {
   "cell_type": "markdown",
   "id": "8c48de64",
   "metadata": {},
   "source": [
    "<ol start=\"1\">\n",
    "    <li>        \n",
    "    </li>    \n",
    "</ol>"
   ]
  },
  {
   "cell_type": "code",
   "execution_count": null,
   "id": "ea3ed570",
   "metadata": {},
   "outputs": [],
   "source": []
  },
  {
   "cell_type": "markdown",
   "id": "7961bed7",
   "metadata": {},
   "source": [
    "<hr style=\"border: ridge black 1px;\">"
   ]
  },
  {
   "cell_type": "markdown",
   "id": "b75d5cfc",
   "metadata": {},
   "source": [
    "<p style=\"border: ridge #FF4040 2px; text-align: left;font-weight: italic; font-size:15px;\">\n",
    "    Simulaciones\n",
    "</p>"
   ]
  },
  {
   "cell_type": "code",
   "execution_count": null,
   "id": "3598c2df",
   "metadata": {},
   "outputs": [],
   "source": []
  }
 ],
 "metadata": {
  "kernelspec": {
   "display_name": "Python 3 (ipykernel)",
   "language": "python",
   "name": "python3"
  },
  "language_info": {
   "codemirror_mode": {
    "name": "ipython",
    "version": 3
   },
   "file_extension": ".py",
   "mimetype": "text/x-python",
   "name": "python",
   "nbconvert_exporter": "python",
   "pygments_lexer": "ipython3",
   "version": "3.8.10"
  }
 },
 "nbformat": 4,
 "nbformat_minor": 5
}
